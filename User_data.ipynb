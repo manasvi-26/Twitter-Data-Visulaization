{
 "cells": [
  {
   "cell_type": "markdown",
   "metadata": {},
   "source": [
    "# Code to get User Data"
   ]
  },
  {
   "cell_type": "markdown",
   "metadata": {},
   "source": [
    "## Used tweepy to collect data of all users who tweeted with the hashtag(#INDvsAUS)\n",
    "### User list derived from the tweets.json file collected"
   ]
  },
  {
   "cell_type": "markdown",
   "metadata": {},
   "source": [
    "### Import Required Modules-"
   ]
  },
  {
   "cell_type": "code",
   "execution_count": 1,
   "metadata": {},
   "outputs": [],
   "source": [
    "import tweepy\n",
    "import pandas as pd\n",
    "import time\n",
    "import json\n",
    "from IPython.display import display \n",
    "import matplotlib.pyplot as plt\n",
    "\n",
    "import plotly.express as px\n",
    "\n",
    "consumer_key = \"Xrhspj6TP8dX7OcE1UI6sFCcx\"\n",
    "consumer_secret = \"NWb6i1KIx4jn0HFPLsNvSU4PViRi0ZdeApKzPXcVZrQJ819F1i\"\n",
    "access_token  = \"1339056562980024321-JKxnhaw8vszFxEV6SXnbKrmhzhV24D\"\n",
    "access_token_secret = \"qNFHIHlIGer8XA1JUuwkbohzxGqfvlrccIzTB5t57c26H\""
   ]
  },
  {
   "cell_type": "markdown",
   "metadata": {},
   "source": [
    "### Authentication -"
   ]
  },
  {
   "cell_type": "code",
   "execution_count": 2,
   "metadata": {},
   "outputs": [],
   "source": [
    "auth = tweepy.OAuthHandler(consumer_key, consumer_secret)\n",
    "auth.set_access_token(access_token, access_token_secret)\n",
    "api = tweepy.API(auth,wait_on_rate_limit=True)"
   ]
  },
  {
   "cell_type": "markdown",
   "metadata": {},
   "source": [
    "### Collecting Users List from tweets.json file"
   ]
  },
  {
   "cell_type": "code",
   "execution_count": 3,
   "metadata": {},
   "outputs": [],
   "source": [
    "df2 = pd.read_json(\"tweets.json\",lines = True) "
   ]
  },
  {
   "cell_type": "code",
   "execution_count": 4,
   "metadata": {},
   "outputs": [],
   "source": [
    "df3 = df2.drop_duplicates(subset = ['id'])\n",
    "df3.index = range(len(df3))\n",
    "\n",
    "df_temp = df3.username.unique()\n",
    "users = df_temp.tolist()"
   ]
  },
  {
   "cell_type": "markdown",
   "metadata": {},
   "source": [
    "### Looping through User list to get User tweepy object"
   ]
  },
  {
   "cell_type": "code",
   "execution_count": null,
   "metadata": {},
   "outputs": [],
   "source": [
    "\n",
    "user_info = []\n",
    "for user in users:\n",
    "    try:\n",
    "        user_obj = api.get_user(user)\n",
    "        user_info.append([user_obj.screen_name,user_obj.followers_count,\n",
    "                          user_obj.verified, user_obj.friends_count,\n",
    "                          user_obj.location,user_obj.statuses_count\n",
    "                         ])\n",
    "        print(user)\n",
    "    \n",
    "        \n",
    "    except tweepy.TweepError as e:\n",
    "        \n",
    "        print (e)  # prints 34"
   ]
  },
  {
   "cell_type": "code",
   "execution_count": null,
   "metadata": {},
   "outputs": [],
   "source": []
  },
  {
   "cell_type": "code",
   "execution_count": 9,
   "metadata": {
    "scrolled": true
   },
   "outputs": [
    {
     "name": "stdout",
     "output_type": "stream",
     "text": [
      "260\n"
     ]
    }
   ],
   "source": [
    "print(len(user_info))"
   ]
  },
  {
   "cell_type": "code",
   "execution_count": null,
   "metadata": {},
   "outputs": [],
   "source": [
    "for user in users[260:]:\n",
    "    try:\n",
    "        user_obj = api.get_user(user)\n",
    "        user_info.append([user_obj.screen_name,user_obj.followers_count,\n",
    "                          user_obj.verified, user_obj.friends_count,\n",
    "                          user_obj.location,user_obj.statuses_count\n",
    "                         ])\n",
    "        print(user)\n",
    "        \n",
    "    except tweepy.TweepError as e:\n",
    "        \n",
    "        print (e)  # prints 34"
   ]
  },
  {
   "cell_type": "code",
   "execution_count": 11,
   "metadata": {
    "scrolled": false
   },
   "outputs": [
    {
     "name": "stdout",
     "output_type": "stream",
     "text": [
      "6488\n"
     ]
    }
   ],
   "source": [
    "print(len(user_info))"
   ]
  },
  {
   "cell_type": "markdown",
   "metadata": {},
   "source": [
    "### Dumping User dataframe into user.json file"
   ]
  },
  {
   "cell_type": "code",
   "execution_count": 19,
   "metadata": {},
   "outputs": [],
   "source": [
    "df = pd.DataFrame(user_info,columns = ['Name','Followers','Verified','Friends','Location','Tweets'])"
   ]
  },
  {
   "cell_type": "code",
   "execution_count": 13,
   "metadata": {},
   "outputs": [],
   "source": [
    "df.to_json('user.json')"
   ]
  },
  {
   "cell_type": "code",
   "execution_count": 17,
   "metadata": {},
   "outputs": [
    {
     "data": {
      "text/html": [
       "<div>\n",
       "<style scoped>\n",
       "    .dataframe tbody tr th:only-of-type {\n",
       "        vertical-align: middle;\n",
       "    }\n",
       "\n",
       "    .dataframe tbody tr th {\n",
       "        vertical-align: top;\n",
       "    }\n",
       "\n",
       "    .dataframe thead th {\n",
       "        text-align: right;\n",
       "    }\n",
       "</style>\n",
       "<table border=\"1\" class=\"dataframe\">\n",
       "  <thead>\n",
       "    <tr style=\"text-align: right;\">\n",
       "      <th></th>\n",
       "      <th>Name</th>\n",
       "      <th>Followers</th>\n",
       "      <th>Verified</th>\n",
       "      <th>Friends</th>\n",
       "      <th>Location</th>\n",
       "      <th>Tweets</th>\n",
       "    </tr>\n",
       "  </thead>\n",
       "  <tbody>\n",
       "    <tr>\n",
       "      <th>0</th>\n",
       "      <td>Sexyano_Donaldo</td>\n",
       "      <td>2607</td>\n",
       "      <td>False</td>\n",
       "      <td>970</td>\n",
       "      <td>Washington DC, Nepal</td>\n",
       "      <td>32221</td>\n",
       "    </tr>\n",
       "    <tr>\n",
       "      <th>1</th>\n",
       "      <td>interviewtimes2</td>\n",
       "      <td>134</td>\n",
       "      <td>False</td>\n",
       "      <td>28</td>\n",
       "      <td>Bhubaneshwar</td>\n",
       "      <td>1357</td>\n",
       "    </tr>\n",
       "    <tr>\n",
       "      <th>2</th>\n",
       "      <td>NarayanShastri</td>\n",
       "      <td>788</td>\n",
       "      <td>False</td>\n",
       "      <td>2518</td>\n",
       "      <td>ಬೆಂಗಳೂರು Bengaluru</td>\n",
       "      <td>53515</td>\n",
       "    </tr>\n",
       "    <tr>\n",
       "      <th>3</th>\n",
       "      <td>iamritikagarwal</td>\n",
       "      <td>1</td>\n",
       "      <td>False</td>\n",
       "      <td>144</td>\n",
       "      <td></td>\n",
       "      <td>559</td>\n",
       "    </tr>\n",
       "    <tr>\n",
       "      <th>4</th>\n",
       "      <td>Oneindia</td>\n",
       "      <td>64296</td>\n",
       "      <td>True</td>\n",
       "      <td>619</td>\n",
       "      <td>India</td>\n",
       "      <td>365502</td>\n",
       "    </tr>\n",
       "    <tr>\n",
       "      <th>...</th>\n",
       "      <td>...</td>\n",
       "      <td>...</td>\n",
       "      <td>...</td>\n",
       "      <td>...</td>\n",
       "      <td>...</td>\n",
       "      <td>...</td>\n",
       "    </tr>\n",
       "    <tr>\n",
       "      <th>6483</th>\n",
       "      <td>iamayush312</td>\n",
       "      <td>73</td>\n",
       "      <td>False</td>\n",
       "      <td>291</td>\n",
       "      <td></td>\n",
       "      <td>4586</td>\n",
       "    </tr>\n",
       "    <tr>\n",
       "      <th>6484</th>\n",
       "      <td>Kasturi_FanGirl</td>\n",
       "      <td>532</td>\n",
       "      <td>False</td>\n",
       "      <td>214</td>\n",
       "      <td></td>\n",
       "      <td>31472</td>\n",
       "    </tr>\n",
       "    <tr>\n",
       "      <th>6485</th>\n",
       "      <td>Rexxy_09</td>\n",
       "      <td>21</td>\n",
       "      <td>False</td>\n",
       "      <td>131</td>\n",
       "      <td></td>\n",
       "      <td>66</td>\n",
       "    </tr>\n",
       "    <tr>\n",
       "      <th>6486</th>\n",
       "      <td>SurajitTweet</td>\n",
       "      <td>3001</td>\n",
       "      <td>False</td>\n",
       "      <td>382</td>\n",
       "      <td>India</td>\n",
       "      <td>55482</td>\n",
       "    </tr>\n",
       "    <tr>\n",
       "      <th>6487</th>\n",
       "      <td>Msdhoni_183</td>\n",
       "      <td>2607</td>\n",
       "      <td>False</td>\n",
       "      <td>2305</td>\n",
       "      <td>India</td>\n",
       "      <td>13913</td>\n",
       "    </tr>\n",
       "  </tbody>\n",
       "</table>\n",
       "<p>6488 rows × 6 columns</p>\n",
       "</div>"
      ],
      "text/plain": [
       "                 Name  Followers  Verified  Friends              Location  \\\n",
       "0     Sexyano_Donaldo       2607     False      970  Washington DC, Nepal   \n",
       "1     interviewtimes2        134     False       28         Bhubaneshwar    \n",
       "2      NarayanShastri        788     False     2518    ಬೆಂಗಳೂರು Bengaluru   \n",
       "3     iamritikagarwal          1     False      144                         \n",
       "4            Oneindia      64296      True      619                 India   \n",
       "...               ...        ...       ...      ...                   ...   \n",
       "6483      iamayush312         73     False      291                         \n",
       "6484  Kasturi_FanGirl        532     False      214                         \n",
       "6485         Rexxy_09         21     False      131                         \n",
       "6486     SurajitTweet       3001     False      382                 India   \n",
       "6487      Msdhoni_183       2607     False     2305                 India   \n",
       "\n",
       "      Tweets  \n",
       "0      32221  \n",
       "1       1357  \n",
       "2      53515  \n",
       "3        559  \n",
       "4     365502  \n",
       "...      ...  \n",
       "6483    4586  \n",
       "6484   31472  \n",
       "6485      66  \n",
       "6486   55482  \n",
       "6487   13913  \n",
       "\n",
       "[6488 rows x 6 columns]"
      ]
     },
     "metadata": {},
     "output_type": "display_data"
    }
   ],
   "source": [
    "display(df)"
   ]
  },
  {
   "cell_type": "code",
   "execution_count": 28,
   "metadata": {},
   "outputs": [],
   "source": [
    "out = df.to_json(orient='records')[1:-1].replace('},{', '}\\n {')\n"
   ]
  },
  {
   "cell_type": "code",
   "execution_count": 29,
   "metadata": {},
   "outputs": [],
   "source": [
    "with open('user.json', 'w') as f:\n",
    "    f.write(out)"
   ]
  },
  {
   "cell_type": "code",
   "execution_count": 30,
   "metadata": {},
   "outputs": [],
   "source": [
    "df2 = pd.read_json(\"user.json\",lines = True)"
   ]
  },
  {
   "cell_type": "code",
   "execution_count": 31,
   "metadata": {},
   "outputs": [
    {
     "data": {
      "text/html": [
       "<div>\n",
       "<style scoped>\n",
       "    .dataframe tbody tr th:only-of-type {\n",
       "        vertical-align: middle;\n",
       "    }\n",
       "\n",
       "    .dataframe tbody tr th {\n",
       "        vertical-align: top;\n",
       "    }\n",
       "\n",
       "    .dataframe thead th {\n",
       "        text-align: right;\n",
       "    }\n",
       "</style>\n",
       "<table border=\"1\" class=\"dataframe\">\n",
       "  <thead>\n",
       "    <tr style=\"text-align: right;\">\n",
       "      <th></th>\n",
       "      <th>Name</th>\n",
       "      <th>Followers</th>\n",
       "      <th>Verified</th>\n",
       "      <th>Friends</th>\n",
       "      <th>Location</th>\n",
       "      <th>Tweets</th>\n",
       "    </tr>\n",
       "  </thead>\n",
       "  <tbody>\n",
       "    <tr>\n",
       "      <th>0</th>\n",
       "      <td>Sexyano_Donaldo</td>\n",
       "      <td>2607</td>\n",
       "      <td>False</td>\n",
       "      <td>970</td>\n",
       "      <td>Washington DC, Nepal</td>\n",
       "      <td>32221</td>\n",
       "    </tr>\n",
       "    <tr>\n",
       "      <th>1</th>\n",
       "      <td>interviewtimes2</td>\n",
       "      <td>134</td>\n",
       "      <td>False</td>\n",
       "      <td>28</td>\n",
       "      <td>Bhubaneshwar</td>\n",
       "      <td>1357</td>\n",
       "    </tr>\n",
       "    <tr>\n",
       "      <th>2</th>\n",
       "      <td>NarayanShastri</td>\n",
       "      <td>788</td>\n",
       "      <td>False</td>\n",
       "      <td>2518</td>\n",
       "      <td>ಬೆಂಗಳೂರು Bengaluru</td>\n",
       "      <td>53515</td>\n",
       "    </tr>\n",
       "    <tr>\n",
       "      <th>3</th>\n",
       "      <td>iamritikagarwal</td>\n",
       "      <td>1</td>\n",
       "      <td>False</td>\n",
       "      <td>144</td>\n",
       "      <td></td>\n",
       "      <td>559</td>\n",
       "    </tr>\n",
       "    <tr>\n",
       "      <th>4</th>\n",
       "      <td>Oneindia</td>\n",
       "      <td>64296</td>\n",
       "      <td>True</td>\n",
       "      <td>619</td>\n",
       "      <td>India</td>\n",
       "      <td>365502</td>\n",
       "    </tr>\n",
       "    <tr>\n",
       "      <th>...</th>\n",
       "      <td>...</td>\n",
       "      <td>...</td>\n",
       "      <td>...</td>\n",
       "      <td>...</td>\n",
       "      <td>...</td>\n",
       "      <td>...</td>\n",
       "    </tr>\n",
       "    <tr>\n",
       "      <th>6483</th>\n",
       "      <td>iamayush312</td>\n",
       "      <td>73</td>\n",
       "      <td>False</td>\n",
       "      <td>291</td>\n",
       "      <td></td>\n",
       "      <td>4586</td>\n",
       "    </tr>\n",
       "    <tr>\n",
       "      <th>6484</th>\n",
       "      <td>Kasturi_FanGirl</td>\n",
       "      <td>532</td>\n",
       "      <td>False</td>\n",
       "      <td>214</td>\n",
       "      <td></td>\n",
       "      <td>31472</td>\n",
       "    </tr>\n",
       "    <tr>\n",
       "      <th>6485</th>\n",
       "      <td>Rexxy_09</td>\n",
       "      <td>21</td>\n",
       "      <td>False</td>\n",
       "      <td>131</td>\n",
       "      <td></td>\n",
       "      <td>66</td>\n",
       "    </tr>\n",
       "    <tr>\n",
       "      <th>6486</th>\n",
       "      <td>SurajitTweet</td>\n",
       "      <td>3001</td>\n",
       "      <td>False</td>\n",
       "      <td>382</td>\n",
       "      <td>India</td>\n",
       "      <td>55482</td>\n",
       "    </tr>\n",
       "    <tr>\n",
       "      <th>6487</th>\n",
       "      <td>Msdhoni_183</td>\n",
       "      <td>2607</td>\n",
       "      <td>False</td>\n",
       "      <td>2305</td>\n",
       "      <td>India</td>\n",
       "      <td>13913</td>\n",
       "    </tr>\n",
       "  </tbody>\n",
       "</table>\n",
       "<p>6488 rows × 6 columns</p>\n",
       "</div>"
      ],
      "text/plain": [
       "                 Name  Followers  Verified  Friends              Location  \\\n",
       "0     Sexyano_Donaldo       2607     False      970  Washington DC, Nepal   \n",
       "1     interviewtimes2        134     False       28         Bhubaneshwar    \n",
       "2      NarayanShastri        788     False     2518    ಬೆಂಗಳೂರು Bengaluru   \n",
       "3     iamritikagarwal          1     False      144                         \n",
       "4            Oneindia      64296      True      619                 India   \n",
       "...               ...        ...       ...      ...                   ...   \n",
       "6483      iamayush312         73     False      291                         \n",
       "6484  Kasturi_FanGirl        532     False      214                         \n",
       "6485         Rexxy_09         21     False      131                         \n",
       "6486     SurajitTweet       3001     False      382                 India   \n",
       "6487      Msdhoni_183       2607     False     2305                 India   \n",
       "\n",
       "      Tweets  \n",
       "0      32221  \n",
       "1       1357  \n",
       "2      53515  \n",
       "3        559  \n",
       "4     365502  \n",
       "...      ...  \n",
       "6483    4586  \n",
       "6484   31472  \n",
       "6485      66  \n",
       "6486   55482  \n",
       "6487   13913  \n",
       "\n",
       "[6488 rows x 6 columns]"
      ]
     },
     "metadata": {},
     "output_type": "display_data"
    }
   ],
   "source": [
    "display(df2)"
   ]
  }
 ],
 "metadata": {
  "kernelspec": {
   "display_name": "Python 3",
   "language": "python",
   "name": "python3"
  },
  "language_info": {
   "codemirror_mode": {
    "name": "ipython",
    "version": 3
   },
   "file_extension": ".py",
   "mimetype": "text/x-python",
   "name": "python",
   "nbconvert_exporter": "python",
   "pygments_lexer": "ipython3",
   "version": "3.7.9"
  }
 },
 "nbformat": 4,
 "nbformat_minor": 4
}
